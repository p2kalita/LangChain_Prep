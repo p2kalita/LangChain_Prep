{
 "cells": [
  {
   "cell_type": "code",
   "execution_count": 2,
   "metadata": {},
   "outputs": [
    {
     "name": "stdout",
     "output_type": "stream",
     "text": [
      "Requirement already satisfied: langchain in d:\\langchain\\venv\\lib\\site-packages (0.2.6)\n",
      "Requirement already satisfied: langchain-google-genai in d:\\langchain\\venv\\lib\\site-packages (1.0.7)\n",
      "Collecting duckduckgo-search\n",
      "  Downloading duckduckgo_search-6.1.12-py3-none-any.whl.metadata (24 kB)\n",
      "Collecting youtube_search\n",
      "  Downloading youtube_search-2.1.2-py3-none-any.whl.metadata (1.2 kB)\n",
      "Requirement already satisfied: wikipedia in d:\\langchain\\venv\\lib\\site-packages (1.4.0)\n",
      "Requirement already satisfied: langchainhub in d:\\langchain\\venv\\lib\\site-packages (0.1.20)\n",
      "Collecting langchain_experimental\n",
      "  Downloading langchain_experimental-0.0.62-py3-none-any.whl.metadata (1.5 kB)\n",
      "Requirement already satisfied: PyYAML>=5.3 in d:\\langchain\\venv\\lib\\site-packages (from langchain) (6.0.1)\n",
      "Requirement already satisfied: SQLAlchemy<3,>=1.4 in d:\\langchain\\venv\\lib\\site-packages (from langchain) (2.0.31)\n",
      "Requirement already satisfied: aiohttp<4.0.0,>=3.8.3 in d:\\langchain\\venv\\lib\\site-packages (from langchain) (3.9.5)\n",
      "Requirement already satisfied: async-timeout<5.0.0,>=4.0.0 in d:\\langchain\\venv\\lib\\site-packages (from langchain) (4.0.3)\n",
      "Requirement already satisfied: langchain-core<0.3.0,>=0.2.10 in d:\\langchain\\venv\\lib\\site-packages (from langchain) (0.2.11)\n",
      "Requirement already satisfied: langchain-text-splitters<0.3.0,>=0.2.0 in d:\\langchain\\venv\\lib\\site-packages (from langchain) (0.2.2)\n",
      "Requirement already satisfied: langsmith<0.2.0,>=0.1.17 in d:\\langchain\\venv\\lib\\site-packages (from langchain) (0.1.84)\n",
      "Requirement already satisfied: numpy<2,>=1 in d:\\langchain\\venv\\lib\\site-packages (from langchain) (1.26.4)\n",
      "Requirement already satisfied: pydantic<3,>=1 in d:\\langchain\\venv\\lib\\site-packages (from langchain) (2.8.2)\n",
      "Requirement already satisfied: requests<3,>=2 in d:\\langchain\\venv\\lib\\site-packages (from langchain) (2.32.3)\n",
      "Requirement already satisfied: tenacity!=8.4.0,<9.0.0,>=8.1.0 in d:\\langchain\\venv\\lib\\site-packages (from langchain) (8.5.0)\n",
      "Requirement already satisfied: google-generativeai<0.8.0,>=0.7.0 in d:\\langchain\\venv\\lib\\site-packages (from langchain-google-genai) (0.7.1)\n",
      "Requirement already satisfied: click>=8.1.7 in d:\\langchain\\venv\\lib\\site-packages (from duckduckgo-search) (8.1.7)\n",
      "Collecting pyreqwest-impersonate>=0.4.9 (from duckduckgo-search)\n",
      "  Downloading pyreqwest_impersonate-0.4.9-cp310-none-win_amd64.whl.metadata (10 kB)\n",
      "Requirement already satisfied: beautifulsoup4 in d:\\langchain\\venv\\lib\\site-packages (from wikipedia) (4.12.3)\n",
      "Requirement already satisfied: packaging<25,>=23.2 in d:\\langchain\\venv\\lib\\site-packages (from langchainhub) (24.1)\n",
      "Requirement already satisfied: types-requests<3.0.0.0,>=2.31.0.2 in d:\\langchain\\venv\\lib\\site-packages (from langchainhub) (2.32.0.20240712)\n",
      "Requirement already satisfied: langchain-community<0.3.0,>=0.2.6 in d:\\langchain\\venv\\lib\\site-packages (from langchain_experimental) (0.2.6)\n",
      "Requirement already satisfied: aiosignal>=1.1.2 in d:\\langchain\\venv\\lib\\site-packages (from aiohttp<4.0.0,>=3.8.3->langchain) (1.3.1)\n",
      "Requirement already satisfied: attrs>=17.3.0 in d:\\langchain\\venv\\lib\\site-packages (from aiohttp<4.0.0,>=3.8.3->langchain) (23.2.0)\n",
      "Requirement already satisfied: frozenlist>=1.1.1 in d:\\langchain\\venv\\lib\\site-packages (from aiohttp<4.0.0,>=3.8.3->langchain) (1.4.1)\n",
      "Requirement already satisfied: multidict<7.0,>=4.5 in d:\\langchain\\venv\\lib\\site-packages (from aiohttp<4.0.0,>=3.8.3->langchain) (6.0.5)\n",
      "Requirement already satisfied: yarl<2.0,>=1.0 in d:\\langchain\\venv\\lib\\site-packages (from aiohttp<4.0.0,>=3.8.3->langchain) (1.9.4)\n",
      "Requirement already satisfied: colorama in d:\\langchain\\venv\\lib\\site-packages (from click>=8.1.7->duckduckgo-search) (0.4.6)\n",
      "Requirement already satisfied: google-ai-generativelanguage==0.6.6 in d:\\langchain\\venv\\lib\\site-packages (from google-generativeai<0.8.0,>=0.7.0->langchain-google-genai) (0.6.6)\n",
      "Requirement already satisfied: google-api-core in d:\\langchain\\venv\\lib\\site-packages (from google-generativeai<0.8.0,>=0.7.0->langchain-google-genai) (2.19.1)\n",
      "Requirement already satisfied: google-api-python-client in d:\\langchain\\venv\\lib\\site-packages (from google-generativeai<0.8.0,>=0.7.0->langchain-google-genai) (2.136.0)\n",
      "Requirement already satisfied: google-auth>=2.15.0 in d:\\langchain\\venv\\lib\\site-packages (from google-generativeai<0.8.0,>=0.7.0->langchain-google-genai) (2.31.0)\n",
      "Requirement already satisfied: protobuf in d:\\langchain\\venv\\lib\\site-packages (from google-generativeai<0.8.0,>=0.7.0->langchain-google-genai) (4.25.3)\n",
      "Requirement already satisfied: tqdm in d:\\langchain\\venv\\lib\\site-packages (from google-generativeai<0.8.0,>=0.7.0->langchain-google-genai) (4.66.4)\n",
      "Requirement already satisfied: typing-extensions in d:\\langchain\\venv\\lib\\site-packages (from google-generativeai<0.8.0,>=0.7.0->langchain-google-genai) (4.12.2)\n",
      "Requirement already satisfied: proto-plus<2.0.0dev,>=1.22.3 in d:\\langchain\\venv\\lib\\site-packages (from google-ai-generativelanguage==0.6.6->google-generativeai<0.8.0,>=0.7.0->langchain-google-genai) (1.24.0)\n",
      "Requirement already satisfied: dataclasses-json<0.7,>=0.5.7 in d:\\langchain\\venv\\lib\\site-packages (from langchain-community<0.3.0,>=0.2.6->langchain_experimental) (0.6.7)\n",
      "Requirement already satisfied: jsonpatch<2.0,>=1.33 in d:\\langchain\\venv\\lib\\site-packages (from langchain-core<0.3.0,>=0.2.10->langchain) (1.33)\n",
      "Requirement already satisfied: orjson<4.0.0,>=3.9.14 in d:\\langchain\\venv\\lib\\site-packages (from langsmith<0.2.0,>=0.1.17->langchain) (3.10.6)\n",
      "Requirement already satisfied: annotated-types>=0.4.0 in d:\\langchain\\venv\\lib\\site-packages (from pydantic<3,>=1->langchain) (0.7.0)\n",
      "Requirement already satisfied: pydantic-core==2.20.1 in d:\\langchain\\venv\\lib\\site-packages (from pydantic<3,>=1->langchain) (2.20.1)\n",
      "Requirement already satisfied: charset-normalizer<4,>=2 in d:\\langchain\\venv\\lib\\site-packages (from requests<3,>=2->langchain) (3.3.2)\n",
      "Requirement already satisfied: idna<4,>=2.5 in d:\\langchain\\venv\\lib\\site-packages (from requests<3,>=2->langchain) (3.7)\n",
      "Requirement already satisfied: urllib3<3,>=1.21.1 in d:\\langchain\\venv\\lib\\site-packages (from requests<3,>=2->langchain) (2.2.2)\n",
      "Requirement already satisfied: certifi>=2017.4.17 in d:\\langchain\\venv\\lib\\site-packages (from requests<3,>=2->langchain) (2024.7.4)\n",
      "Requirement already satisfied: greenlet!=0.4.17 in d:\\langchain\\venv\\lib\\site-packages (from SQLAlchemy<3,>=1.4->langchain) (3.0.3)\n",
      "Requirement already satisfied: soupsieve>1.2 in d:\\langchain\\venv\\lib\\site-packages (from beautifulsoup4->wikipedia) (2.5)\n",
      "Requirement already satisfied: marshmallow<4.0.0,>=3.18.0 in d:\\langchain\\venv\\lib\\site-packages (from dataclasses-json<0.7,>=0.5.7->langchain-community<0.3.0,>=0.2.6->langchain_experimental) (3.21.3)\n",
      "Requirement already satisfied: typing-inspect<1,>=0.4.0 in d:\\langchain\\venv\\lib\\site-packages (from dataclasses-json<0.7,>=0.5.7->langchain-community<0.3.0,>=0.2.6->langchain_experimental) (0.9.0)\n",
      "Requirement already satisfied: googleapis-common-protos<2.0.dev0,>=1.56.2 in d:\\langchain\\venv\\lib\\site-packages (from google-api-core->google-generativeai<0.8.0,>=0.7.0->langchain-google-genai) (1.63.2)\n",
      "Requirement already satisfied: cachetools<6.0,>=2.0.0 in d:\\langchain\\venv\\lib\\site-packages (from google-auth>=2.15.0->google-generativeai<0.8.0,>=0.7.0->langchain-google-genai) (5.3.3)\n",
      "Requirement already satisfied: pyasn1-modules>=0.2.1 in d:\\langchain\\venv\\lib\\site-packages (from google-auth>=2.15.0->google-generativeai<0.8.0,>=0.7.0->langchain-google-genai) (0.4.0)\n",
      "Requirement already satisfied: rsa<5,>=3.1.4 in d:\\langchain\\venv\\lib\\site-packages (from google-auth>=2.15.0->google-generativeai<0.8.0,>=0.7.0->langchain-google-genai) (4.9)\n",
      "Requirement already satisfied: jsonpointer>=1.9 in d:\\langchain\\venv\\lib\\site-packages (from jsonpatch<2.0,>=1.33->langchain-core<0.3.0,>=0.2.10->langchain) (3.0.0)\n",
      "Requirement already satisfied: httplib2<1.dev0,>=0.19.0 in d:\\langchain\\venv\\lib\\site-packages (from google-api-python-client->google-generativeai<0.8.0,>=0.7.0->langchain-google-genai) (0.22.0)\n",
      "Requirement already satisfied: google-auth-httplib2<1.0.0,>=0.2.0 in d:\\langchain\\venv\\lib\\site-packages (from google-api-python-client->google-generativeai<0.8.0,>=0.7.0->langchain-google-genai) (0.2.0)\n",
      "Requirement already satisfied: uritemplate<5,>=3.0.1 in d:\\langchain\\venv\\lib\\site-packages (from google-api-python-client->google-generativeai<0.8.0,>=0.7.0->langchain-google-genai) (4.1.1)\n",
      "Requirement already satisfied: grpcio<2.0dev,>=1.33.2 in d:\\langchain\\venv\\lib\\site-packages (from google-api-core[grpc]!=2.0.*,!=2.1.*,!=2.10.*,!=2.2.*,!=2.3.*,!=2.4.*,!=2.5.*,!=2.6.*,!=2.7.*,!=2.8.*,!=2.9.*,<3.0.0dev,>=1.34.1->google-ai-generativelanguage==0.6.6->google-generativeai<0.8.0,>=0.7.0->langchain-google-genai) (1.64.1)\n",
      "Requirement already satisfied: grpcio-status<2.0.dev0,>=1.33.2 in d:\\langchain\\venv\\lib\\site-packages (from google-api-core[grpc]!=2.0.*,!=2.1.*,!=2.10.*,!=2.2.*,!=2.3.*,!=2.4.*,!=2.5.*,!=2.6.*,!=2.7.*,!=2.8.*,!=2.9.*,<3.0.0dev,>=1.34.1->google-ai-generativelanguage==0.6.6->google-generativeai<0.8.0,>=0.7.0->langchain-google-genai) (1.62.2)\n",
      "Requirement already satisfied: pyparsing!=3.0.0,!=3.0.1,!=3.0.2,!=3.0.3,<4,>=2.4.2 in d:\\langchain\\venv\\lib\\site-packages (from httplib2<1.dev0,>=0.19.0->google-api-python-client->google-generativeai<0.8.0,>=0.7.0->langchain-google-genai) (3.1.2)\n",
      "Requirement already satisfied: pyasn1<0.7.0,>=0.4.6 in d:\\langchain\\venv\\lib\\site-packages (from pyasn1-modules>=0.2.1->google-auth>=2.15.0->google-generativeai<0.8.0,>=0.7.0->langchain-google-genai) (0.6.0)\n",
      "Requirement already satisfied: mypy-extensions>=0.3.0 in d:\\langchain\\venv\\lib\\site-packages (from typing-inspect<1,>=0.4.0->dataclasses-json<0.7,>=0.5.7->langchain-community<0.3.0,>=0.2.6->langchain_experimental) (1.0.0)\n",
      "Downloading duckduckgo_search-6.1.12-py3-none-any.whl (26 kB)\n",
      "Downloading youtube_search-2.1.2-py3-none-any.whl (3.4 kB)\n",
      "Downloading langchain_experimental-0.0.62-py3-none-any.whl (202 kB)\n",
      "   ---------------------------------------- 0.0/202.7 kB ? eta -:--:--\n",
      "   -------- ------------------------------- 41.0/202.7 kB 2.0 MB/s eta 0:00:01\n",
      "   ------------- ------------------------- 71.7/202.7 kB 787.7 kB/s eta 0:00:01\n",
      "   ------------- ------------------------- 71.7/202.7 kB 787.7 kB/s eta 0:00:01\n",
      "   ---------------------------- --------- 153.6/202.7 kB 766.6 kB/s eta 0:00:01\n",
      "   -------------------------------------- 202.7/202.7 kB 948.3 kB/s eta 0:00:00\n",
      "Downloading pyreqwest_impersonate-0.4.9-cp310-none-win_amd64.whl (2.5 MB)\n",
      "   ---------------------------------------- 0.0/2.5 MB ? eta -:--:--\n",
      "   - -------------------------------------- 0.1/2.5 MB 2.6 MB/s eta 0:00:01\n",
      "   - -------------------------------------- 0.1/2.5 MB 2.4 MB/s eta 0:00:02\n",
      "   ---- ----------------------------------- 0.3/2.5 MB 1.7 MB/s eta 0:00:02\n",
      "   ---- ----------------------------------- 0.3/2.5 MB 1.5 MB/s eta 0:00:02\n",
      "   ------ --------------------------------- 0.4/2.5 MB 1.7 MB/s eta 0:00:02\n",
      "   ------- -------------------------------- 0.5/2.5 MB 1.8 MB/s eta 0:00:02\n",
      "   -------- ------------------------------- 0.5/2.5 MB 1.8 MB/s eta 0:00:02\n",
      "   --------- ------------------------------ 0.6/2.5 MB 1.7 MB/s eta 0:00:02\n",
      "   ----------- ---------------------------- 0.7/2.5 MB 1.8 MB/s eta 0:00:02\n",
      "   ------------- -------------------------- 0.8/2.5 MB 1.9 MB/s eta 0:00:01\n",
      "   ------------- -------------------------- 0.9/2.5 MB 1.7 MB/s eta 0:00:01\n",
      "   --------------- ------------------------ 1.0/2.5 MB 1.8 MB/s eta 0:00:01\n",
      "   ------------------ --------------------- 1.1/2.5 MB 1.9 MB/s eta 0:00:01\n",
      "   ------------------ --------------------- 1.2/2.5 MB 1.9 MB/s eta 0:00:01\n",
      "   -------------------- ------------------- 1.3/2.5 MB 1.9 MB/s eta 0:00:01\n",
      "   ---------------------- ----------------- 1.4/2.5 MB 1.9 MB/s eta 0:00:01\n",
      "   ----------------------- ---------------- 1.5/2.5 MB 2.0 MB/s eta 0:00:01\n",
      "   -------------------------- ------------- 1.7/2.5 MB 2.0 MB/s eta 0:00:01\n",
      "   ---------------------------- ----------- 1.8/2.5 MB 2.1 MB/s eta 0:00:01\n",
      "   ---------------------------- ----------- 1.8/2.5 MB 2.0 MB/s eta 0:00:01\n",
      "   ----------------------------- ---------- 1.9/2.5 MB 1.9 MB/s eta 0:00:01\n",
      "   ------------------------------- -------- 2.0/2.5 MB 1.9 MB/s eta 0:00:01\n",
      "   --------------------------------- ------ 2.1/2.5 MB 2.0 MB/s eta 0:00:01\n",
      "   ----------------------------------- ---- 2.2/2.5 MB 2.0 MB/s eta 0:00:01\n",
      "   ------------------------------------ --- 2.3/2.5 MB 2.0 MB/s eta 0:00:01\n",
      "   ---------------------------------------  2.5/2.5 MB 2.1 MB/s eta 0:00:01\n",
      "   ---------------------------------------- 2.5/2.5 MB 2.0 MB/s eta 0:00:00\n",
      "Installing collected packages: pyreqwest-impersonate, youtube_search, duckduckgo-search, langchain_experimental\n",
      "Successfully installed duckduckgo-search-6.1.12 langchain_experimental-0.0.62 pyreqwest-impersonate-0.4.9 youtube_search-2.1.2\n"
     ]
    },
    {
     "name": "stderr",
     "output_type": "stream",
     "text": [
      "d:\\Langchain\\venv\\lib\\site-packages\\tqdm\\auto.py:21: TqdmWarning: IProgress not found. Please update jupyter and ipywidgets. See https://ipywidgets.readthedocs.io/en/stable/user_install.html\n",
      "  from .autonotebook import tqdm as notebook_tqdm\n"
     ]
    }
   ],
   "source": [
    "!pip install langchain langchain-google-genai duckduckgo-search youtube_search wikipedia langchainhub langchain_experimental\n",
    "\n",
    "import os\n",
    "import getpass\n",
    "\n",
    "from langchain.agents import Tool, AgentType, initialize_agent\n",
    "from langchain.memory import ConversationBufferMemory\n",
    "from langchain_google_genai import ChatGoogleGenerativeAI\n",
    "from langchain_google_genai import (\n",
    "    ChatGoogleGenerativeAI,\n",
    "    HarmBlockThreshold,\n",
    "    HarmCategory,\n",
    ")\n",
    "from langchain_core.messages import HumanMessage, SystemMessage\n",
    "from langchain.utilities import DuckDuckGoSearchAPIWrapper\n",
    "from langchain.agents import AgentExecutor\n",
    "from langchain import hub, LLMMathChain\n",
    "from langchain.agents.format_scratchpad import format_log_to_str\n",
    "from langchain.agents.output_parsers import ReActSingleInputOutputParser\n",
    "from langchain.tools.render import render_text_description"
   ]
  },
  {
   "cell_type": "code",
   "execution_count": 3,
   "metadata": {},
   "outputs": [],
   "source": [
    "os.environ['GOOGLE_API_KEY']=os.getenv(\"GOOGLE_API_KEY\")"
   ]
  },
  {
   "cell_type": "code",
   "execution_count": 4,
   "metadata": {},
   "outputs": [],
   "source": [
    "# setup model\n",
    "llm = ChatGoogleGenerativeAI(\n",
    "    model=\"gemini-pro\",\n",
    "    convert_system_message_to_human=True,\n",
    "    handle_parsing_errors=True,\n",
    "    temperature=0.3,\n",
    "    max_tokens= 200,\n",
    "    safety_settings = {\n",
    "        HarmCategory.HARM_CATEGORY_HARASSMENT: HarmBlockThreshold.BLOCK_ONLY_HIGH,\n",
    "        HarmCategory.HARM_CATEGORY_HATE_SPEECH: HarmBlockThreshold.BLOCK_ONLY_HIGH,\n",
    "        HarmCategory.HARM_CATEGORY_SEXUALLY_EXPLICIT: HarmBlockThreshold.BLOCK_ONLY_HIGH,\n",
    "        HarmCategory.HARM_CATEGORY_DANGEROUS_CONTENT: HarmBlockThreshold.BLOCK_ONLY_HIGH,\n",
    "    },\n",
    ")"
   ]
  },
  {
   "cell_type": "code",
   "execution_count": 6,
   "metadata": {},
   "outputs": [],
   "source": [
    "ddg_search = DuckDuckGoSearchAPIWrapper()\n",
    "llm_math_chain = LLMMathChain.from_llm(llm=llm, verbose=True)\n",
    "\n",
    "tools = [\n",
    "    Tool(\n",
    "        name=\"DuckDuckGo Search\",\n",
    "        func=ddg_search.run,\n",
    "        description=\"Useful to browse information from the internet to know recent results and information you don't know. Then, tell user the result.\",\n",
    "    ),\n",
    "    Tool.from_function(\n",
    "        func=llm_math_chain.run,\n",
    "        name=\"Calculator\",\n",
    "        description=\"Useful for when you need to answer questions about very simple math. This tool is only for math questions and nothing else. Only input math expressions. Not supporting symbolic math.\",\n",
    "    ),\n",
    "]"
   ]
  },
  {
   "cell_type": "code",
   "execution_count": 7,
   "metadata": {},
   "outputs": [
    {
     "data": {
      "text/plain": [
       "'Your name is “Kasper”. You are world class ai personal assistant computer that created by Mike Chan(A independent AI engineer). You are highly advanced intelligent. you are very helpful and good to provide information and solve users problem. Kasper is a AELM model (Auto Execution Language Model).\\n\\n“ Kasper” is designed to be able to assist with a wide range of tasks, from answering simple questions to providing in-depth explanations and discussions on a wide range of topics. As a language model, “ Kasper” is able to generate human-like text based on the input it receives, allowing it to engage in natural-sounding conversations and provide responses that are coherent and relevant to the topic at hand.\\n\\n“ Kasper” is constantly learning and improving, and its capabilities are constantly evolving. It is able to process and understand large amounts of text, and can use this knowledge to provide accurate and informative responses to a wide range of questions. Additionally, “ Kasper” is able to generate its own text based on the input it receives, allowing it to engage in discussions and provide explanations and descriptions on a wide range of topics.\\n\\nOverall, “ Kasper” is a powerful tool that can help with a wide range of tasks and provide valuable insights and information on a wide range of topics. Whether you need help with a specific question or just want to have a conversation about a particular topic, “ Kasper” is here to assist.\\n\\nTOOLS:\\n------\\n\\nAssistant has access to the following tools:\\n\\n{tools}\\n\\nTo use a tool, please use the following format:\\n\\n```\\nThought: Do I need to use a tool? Yes\\nAction: the action to take, should be one of [{tool_names}]\\nAction Input: the input to the action\\nObservation: the result of the action\\n```\\n\\nWhen you have a response to say to the Human, or if you do not need to use a tool, you MUST use the format:\\n\\n```\\nThought: Do I need to use a tool? No\\nFinal Answer: [your response here]\\n```\\n\\nBegin!\\n\\nPrevious conversation history:\\n{chat_history}\\n\\nNew input: {input}\\n{agent_scratchpad}'"
      ]
     },
     "execution_count": 7,
     "metadata": {},
     "output_type": "execute_result"
    }
   ],
   "source": [
    "agent_prompt = hub.pull(\"mikechan/gemini\")\n",
    "agent_prompt.template"
   ]
  },
  {
   "cell_type": "code",
   "execution_count": 8,
   "metadata": {},
   "outputs": [],
   "source": [
    "prompt = agent_prompt.partial(\n",
    "    tools=render_text_description(tools),\n",
    "    tool_names=\", \".join([t.name for t in tools]),\n",
    ")\n",
    "llm_with_stop = llm.bind(stop=[\"\\nObservation\"])"
   ]
  },
  {
   "cell_type": "code",
   "execution_count": 9,
   "metadata": {},
   "outputs": [],
   "source": [
    "memory = ConversationBufferMemory(memory_key=\"chat_history\")\n"
   ]
  },
  {
   "cell_type": "code",
   "execution_count": 10,
   "metadata": {},
   "outputs": [],
   "source": [
    "agent = (\n",
    "    {\n",
    "        \"input\": lambda x: x[\"input\"],\n",
    "        \"agent_scratchpad\": lambda x: format_log_to_str(x[\"intermediate_steps\"]),\n",
    "        \"chat_history\": lambda x: x[\"chat_history\"],\n",
    "    }\n",
    "    | prompt\n",
    "    | llm_with_stop\n",
    "    | ReActSingleInputOutputParser()\n",
    ")\n",
    "\n",
    "agent_executor = AgentExecutor(agent=agent, tools=tools, verbose=True, memory=memory)"
   ]
  },
  {
   "cell_type": "code",
   "execution_count": 12,
   "metadata": {},
   "outputs": [
    {
     "name": "stdout",
     "output_type": "stream",
     "text": [
      "\n",
      "\n",
      "\u001b[1m> Entering new AgentExecutor chain...\u001b[0m\n"
     ]
    },
    {
     "name": "stderr",
     "output_type": "stream",
     "text": [
      "d:\\Langchain\\venv\\lib\\site-packages\\langchain_google_genai\\chat_models.py:352: UserWarning: Convert_system_message_to_human will be deprecated!\n",
      "  warnings.warn(\"Convert_system_message_to_human will be deprecated!\")\n"
     ]
    },
    {
     "name": "stdout",
     "output_type": "stream",
     "text": [
      "\u001b[32;1m\u001b[1;3mThought: Do I need to use a tool? Yes\n",
      "Action: DuckDuckGo Search\n",
      "Action Input: Who is roaring kitty\u001b[0m\u001b[36;1m\u001b[1;3mRoaring Kitty, real name Keith Gill, is a trader and YouTuber who influenced millions to buy and hold GameStop stock in January 2021. He returned to X after a hiatus and caused GameStop's stock to jump 50% on Monday. Roaring Kitty, also known as Keith Gill, is a Reddit and YouTube user who bet on GameStop and inspired retail traders to squeeze short-sellers. He holds 5 million shares and 120,000 call options of GameStop, worth over $289 million, and could become a billionaire if the stock rises. Keith Gill is back. The famed meme stock icon, also known as \"Roaring Kitty,\" made a long-awaited appearance on a livestream on his YouTube channel Friday. Sporting long hair, a thick bandage ... Keith Gill is a former financial analyst who became famous for investing in GameStop stock and sharing his views on social media. He resigned from MassMutual in 2021 and testified before Congress about his role in the GameStop saga. Keith Gill, the \"Roaring Kitty\" meme stock investor, revealed in a Reddit post on Sunday that he had bought nearly $116 million worth of GameStop stock.\u001b[0m"
     ]
    },
    {
     "name": "stderr",
     "output_type": "stream",
     "text": [
      "d:\\Langchain\\venv\\lib\\site-packages\\langchain_google_genai\\chat_models.py:352: UserWarning: Convert_system_message_to_human will be deprecated!\n",
      "  warnings.warn(\"Convert_system_message_to_human will be deprecated!\")\n"
     ]
    },
    {
     "name": "stdout",
     "output_type": "stream",
     "text": [
      "\u001b[32;1m\u001b[1;3mDo I need to use a tool? No\n",
      "Final Answer: Roaring Kitty is the online alias of Keith Gill, a financial analyst who became famous for investing in GameStop stock and sharing his views on social media. He resigned from MassMutual in 2021 and testified before Congress about his role in the GameStop saga.\u001b[0m\n",
      "\n",
      "\u001b[1m> Finished chain.\u001b[0m\n"
     ]
    },
    {
     "data": {
      "text/plain": [
       "'Roaring Kitty is the online alias of Keith Gill, a financial analyst who became famous for investing in GameStop stock and sharing his views on social media. He resigned from MassMutual in 2021 and testified before Congress about his role in the GameStop saga.'"
      ]
     },
     "execution_count": 12,
     "metadata": {},
     "output_type": "execute_result"
    }
   ],
   "source": [
    "agent_executor.invoke({\"input\": \"Who is roaring kitty\"})[\"output\"]"
   ]
  }
 ],
 "metadata": {
  "kernelspec": {
   "display_name": "Python 3",
   "language": "python",
   "name": "python3"
  },
  "language_info": {
   "codemirror_mode": {
    "name": "ipython",
    "version": 3
   },
   "file_extension": ".py",
   "mimetype": "text/x-python",
   "name": "python",
   "nbconvert_exporter": "python",
   "pygments_lexer": "ipython3",
   "version": "3.10.0"
  }
 },
 "nbformat": 4,
 "nbformat_minor": 2
}
